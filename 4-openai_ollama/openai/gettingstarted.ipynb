{
 "cells": [
  {
   "cell_type": "markdown",
   "id": "2f39eb92",
   "metadata": {},
   "source": [
    "#### Getting started With Langchain And Open AI\n",
    "\n",
    "In this quickstart we'll see how to:\n",
    "\n",
    "- Get setup with LangChain, LangSmith and LangServe\n",
    "- Use the most basic and common components of LangChain: prompt templates, models, and output parsers.\n",
    "- Build a simple application with LangChain\n",
    "- Trace your application with LangSmith\n",
    "- Serve your application with LangServe"
   ]
  },
  {
   "cell_type": "code",
   "execution_count": 29,
   "id": "430d38a3",
   "metadata": {},
   "outputs": [],
   "source": [
    "import os\n",
    "from dotenv import load_dotenv\n",
    "load_dotenv()\n",
    "\n",
    "os.environ['OPENAI_API_KEY'] = os.getenv(\"OPENAI_API_KEY\")\n",
    "## langsmith tracking\n",
    "os.environ['LANGSMITH_API_KEY'] = os.getenv(\"LANGSMITH_API_KEY\")\n",
    "os.environ[\"LANGCHAIN_API_KEY\"]   = os.getenv(\"LANGCHAIN_API_KEY\") or os.getenv(\"LANGSMITH_API_KEY\")\n",
    "os.environ[\"LANGCHAIN_TRACING_V2\"]= os.getenv(\"LANGCHAIN_TRACING_V2\", \"true\")\n",
    "os.environ[\"LANGCHAIN_PROJECT\"]   = os.getenv(\"LANGCHAIN_PROJECT\")\n",
    "os.environ[\"LANGCHAIN_ENDPOINT\"]  = os.getenv(\"LANGCHAIN_ENDPOINT\", \"https://api.smith.langchain.com\")\n",
    "os.environ[\"LANGSMITH_ENDPOINT\"]  = os.getenv(\"LANGSMITH_ENDPOINT\", \"https://api.smith.langchain.com\")"
   ]
  },
  {
   "cell_type": "code",
   "execution_count": 30,
   "id": "b08106d4",
   "metadata": {},
   "outputs": [
    {
     "name": "stdout",
     "output_type": "stream",
     "text": [
      "client=<openai.resources.chat.completions.completions.Completions object at 0x7266bfe8e780> async_client=<openai.resources.chat.completions.completions.AsyncCompletions object at 0x7266bfe8cfc0> root_client=<openai.OpenAI object at 0x7266bfe8e3f0> root_async_client=<openai.AsyncOpenAI object at 0x7266bfe8ce90> model_name='gpt-4o' model_kwargs={} openai_api_key=SecretStr('**********')\n"
     ]
    }
   ],
   "source": [
    "from langchain_openai import ChatOpenAI\n",
    "llm = ChatOpenAI(model=\"gpt-4o\")\n",
    "print(llm)"
   ]
  },
  {
   "cell_type": "code",
   "execution_count": 31,
   "id": "ffeb635f",
   "metadata": {},
   "outputs": [],
   "source": [
    "## input and response from llm\n",
    "res = llm.invoke(\"What is gen ai, answer in brief\")"
   ]
  },
  {
   "cell_type": "code",
   "execution_count": 32,
   "id": "ab088fbd",
   "metadata": {},
   "outputs": [
    {
     "name": "stdout",
     "output_type": "stream",
     "text": [
      "Generative AI refers to a category of artificial intelligence technology that focuses on creating new content or data that mimics human-like creativity and intelligence. This can include generating text, images, music, and other media. Generative AI models, such as those developed using deep learning techniques, are trained on large datasets to recognize patterns and structures, allowing them to produce novel outputs based on the input they receive. Examples of generative AI include GPT-3 for text generation and DALL-E for image creation.\n"
     ]
    }
   ],
   "source": [
    "print(res.content)"
   ]
  },
  {
   "cell_type": "code",
   "execution_count": 25,
   "id": "327c07c2",
   "metadata": {},
   "outputs": [
    {
     "data": {
      "text/plain": [
       "ChatPromptTemplate(input_variables=['input'], input_types={}, partial_variables={}, messages=[SystemMessagePromptTemplate(prompt=PromptTemplate(input_variables=[], input_types={}, partial_variables={}, template='You are an expert AI engineer. Provide me answers based on the questions'), additional_kwargs={}), HumanMessagePromptTemplate(prompt=PromptTemplate(input_variables=['input'], input_types={}, partial_variables={}, template='{input}'), additional_kwargs={})])"
      ]
     },
     "execution_count": 25,
     "metadata": {},
     "output_type": "execute_result"
    }
   ],
   "source": [
    "### Chatprompt templates\n",
    "from langchain_core.prompts import ChatPromptTemplate\n",
    "\n",
    "prompt = ChatPromptTemplate.from_messages([\n",
    "    (\"system\", \"You are an expert AI engineer. Provide me answers based on the questions\"),\n",
    "    (\"user\", \"{input}\")\n",
    "])\n",
    "\n",
    "prompt"
   ]
  },
  {
   "cell_type": "code",
   "execution_count": 26,
   "id": "3909fe62",
   "metadata": {},
   "outputs": [
    {
     "name": "stdout",
     "output_type": "stream",
     "text": [
      "content='LangSmith is a tool designed for developers working with AI language models, enabling them to track, evaluate, and enhance the performance of these models. It offers features for debugging, testing, and monitoring, helping ensure more reliable and efficient AI applications.' additional_kwargs={'refusal': None} response_metadata={'token_usage': {'completion_tokens': 49, 'prompt_tokens': 35, 'total_tokens': 84, 'completion_tokens_details': {'accepted_prediction_tokens': 0, 'audio_tokens': 0, 'reasoning_tokens': 0, 'rejected_prediction_tokens': 0}, 'prompt_tokens_details': {'audio_tokens': 0, 'cached_tokens': 0}}, 'model_name': 'gpt-4o-2024-08-06', 'system_fingerprint': 'fp_46bff0e0c8', 'id': 'chatcmpl-CBDWFqhYsmTUzBIfBz4RKkZKtLz9W', 'service_tier': 'default', 'finish_reason': 'stop', 'logprobs': None} id='run--36fea2f1-5a4a-4b79-b28a-81ceb9197147-0' usage_metadata={'input_tokens': 35, 'output_tokens': 49, 'total_tokens': 84, 'input_token_details': {'audio': 0, 'cache_read': 0}, 'output_token_details': {'audio': 0, 'reasoning': 0}}\n"
     ]
    }
   ],
   "source": [
    "## chain\n",
    "\n",
    "chain = prompt | llm\n",
    "response = chain.invoke({\"input\": \"Can you tell me about langsmith in very short\"})\n",
    "print(response)"
   ]
  },
  {
   "cell_type": "code",
   "execution_count": 27,
   "id": "4477747d",
   "metadata": {},
   "outputs": [
    {
     "data": {
      "text/plain": [
       "langchain_core.messages.ai.AIMessage"
      ]
     },
     "execution_count": 27,
     "metadata": {},
     "output_type": "execute_result"
    }
   ],
   "source": [
    "type(response)"
   ]
  },
  {
   "cell_type": "code",
   "execution_count": 28,
   "id": "d5ec96ba",
   "metadata": {},
   "outputs": [
    {
     "name": "stdout",
     "output_type": "stream",
     "text": [
      "Langsmith is a platform designed to streamline the development and deployment of language models. It assists AI engineers and developers in managing model workflows, facilitating experimentation, and optimizing performance through tools for monitoring, debugging, and evaluation. Langsmith aims to simplify the process of integrating language models into applications, enhancing their usability and effectiveness.\n"
     ]
    }
   ],
   "source": [
    "## string output parser\n",
    "from langchain_core.output_parsers import StrOutputParser\n",
    "output_parser = StrOutputParser()\n",
    "chain = prompt | llm | output_parser\n",
    "response = chain.invoke({\"input\": \"Can you tell me about langsmith in very short\"})\n",
    "print(response)"
   ]
  }
 ],
 "metadata": {
  "kernelspec": {
   "display_name": "venv (3.13.5)",
   "language": "python",
   "name": "python3"
  },
  "language_info": {
   "codemirror_mode": {
    "name": "ipython",
    "version": 3
   },
   "file_extension": ".py",
   "mimetype": "text/x-python",
   "name": "python",
   "nbconvert_exporter": "python",
   "pygments_lexer": "ipython3",
   "version": "3.13.5"
  }
 },
 "nbformat": 4,
 "nbformat_minor": 5
}
