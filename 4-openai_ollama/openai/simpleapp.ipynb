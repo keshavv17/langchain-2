{
 "cells": [
  {
   "cell_type": "markdown",
   "id": "43c198d3",
   "metadata": {},
   "source": [
    "### Simple genAI app using openai"
   ]
  },
  {
   "cell_type": "code",
   "execution_count": 2,
   "id": "09771312",
   "metadata": {},
   "outputs": [],
   "source": [
    "import os \n",
    "from dotenv import load_dotenv\n",
    "load_dotenv()\n",
    "\n",
    "os.environ['OPENAI_API_KEY']=os.getenv(\"OPENAI_API_KEY\")\n",
    "## Langsmith Tracking\n",
    "os.environ[\"LANGSMITH_API_KEY\"]=os.getenv(\"LANGCHAIN_API_KEY\")\n",
    "os.environ[\"LANGSMITH_TRACING\"]=\"true\"\n",
    "os.environ[\"LANGSMITH_PROJECT\"]=os.getenv(\"LANGCHAIN_PROJECT\")\n",
    "os.environ[\"LANGSMITH_ENDPOINT\"]=os.getenv(\"LANGSMITH_ENDPOINT\")"
   ]
  },
  {
   "cell_type": "code",
   "execution_count": null,
   "id": "ed8d00ff",
   "metadata": {},
   "outputs": [],
   "source": [
    "## Data ingestion -- we need to scrape the data from the website\n",
    "from langchain_community.document_loaders import WebBaseLoader"
   ]
  },
  {
   "cell_type": "code",
   "execution_count": 7,
   "id": "fa2339e5",
   "metadata": {},
   "outputs": [
    {
     "data": {
      "text/plain": [
       "<langchain_community.document_loaders.web_base.WebBaseLoader at 0x7f00f752b9d0>"
      ]
     },
     "execution_count": 7,
     "metadata": {},
     "output_type": "execute_result"
    }
   ],
   "source": [
    "loader = WebBaseLoader(\"https://docs.langchain.com/langsmith/billing#optimize-your-tracing-spend\")\n",
    "loader "
   ]
  },
  {
   "cell_type": "code",
   "execution_count": 8,
   "id": "41a76a4a",
   "metadata": {},
   "outputs": [
    {
     "data": {
      "text/plain": [
       "[Document(metadata={'source': 'https://docs.langchain.com/langsmith/billing#optimize-your-tracing-spend', 'title': 'Manage billing in your account - Docs by LangChain', 'language': 'en'}, page_content='Manage billing in your account - Docs by LangChainOur new LangChain Academy Course Deep Research with LangGraph is now live! Enroll for free.Docs by LangChain home pagePythonSearch...⌘KLangSmithPlatform for LLM observability and evaluationSetupOverviewCreate an account and API keySet up a workspaceManage organizations using the APIManage billingSet up resource tagsUser managementAdditional resourcesFAQsTroubleshootingCloud architecture and scalabilityRegions FAQAuthentication methodsData purging for complianceRelease versionsOur new LangChain Academy Course Deep Research with LangGraph is now live! Enroll for free.Docs by LangChain home pagePythonSearch...⌘KAsk AIGitHubForumForumSearch...NavigationSetupManage billing in your accountGet startedObservabilityEvaluationPrompt engineeringSelf-hostingAdministrationGet startedObservabilityEvaluationPrompt engineeringSelf-hostingAdministrationGitHubForumOn this pageSet up billing for your accountDeveloper Plan: set up billing on your personal organizationPlus Plan: set up billing on a shared organizationSet up billing for accounts created before pricing introductionUpdate your informationInvoice emailBusiness information and tax IDOptimize your tracing spendUnderstand your current usageUsage graphInvoicesOptimization 1: manage data retentionChange org level retention defaults for new projectsChange project level retention defaultsApply extended data retention to a percentage of tracesSee results after 7 daysOptimization 2: limit usageSet a good total traces limitCut maximum spend with an extended data retention limitSet dev/staging limits and view total spent limit across workspacesSummarySetupManage billing in your accountCopy pageCopy pageThis page describes how to manage billing for your LangSmith organization:\\n\\nSet up billing for your account: Complete the billing setup process for Developer and Plus plans, including special instructions for legacy accounts.\\nUpdate your information: Modify invoice email addresses, business information, and tax IDs for your organization.\\nOptimize your tracing spend: Learn how to reduce costs through data retention management and usage limits.\\n\\n\\u200bSet up billing for your account\\nBefore using this guide, note the following:\\nIf you are interested in the Enterprise plan, please contact sales. This guide is only for our self-serve billing plans.\\nIf you created your LangSmith organization before pricing was introduced on April 2nd, 2024, please skip to the final section.\\n\\nTo set up billing for your LangSmith organization, navigate to the Usage and Billing page under Settings. Depending on your organization’s settings, there are different setup guides:\\n\\nDeveloper plan\\nPlus plan\\nSetup for accounts created before April 2, 2024 pricing introduction\\n\\n\\u200bDeveloper Plan: set up billing on your personal organization\\nPersonal organizations are limited to 5000 traces per month until a credit card is added. You can add a credit card on the Plans and Billing page as follows:\\n\\nClick Set up Billing\\n\\n\\n\\nAdd your credit card information. After this step, you will no longer be rate limited to 5000 traces, and you will be charged for any excess traces at rates specified on the pricing page.\\n\\n\\u200bPlus Plan: set up billing on a shared organization\\nIf you have not yet created an organization, you need to follow this guide before setting up billing. The following steps assume you are already in a new organization.\\nYou can’t use a new organization until you enter credit card information. After you complete the following steps, you will gain complete access to LangSmith.\\n\\nClick Subscribe on the Plus page.\\n\\nIf you are a startup building with AI, instead click Apply Now on the Startup Plan. You may be eligible for discounted prices and a free, monthly trace allotment.\\n\\n\\nReview your existing members. Before subscribing, LangSmith lets you remove any added users that you do not want to be included in the bill.\\n\\n\\n\\nEnter your credit card information. Then, enter business information, invoice email, and tax ID. If this organization belongs to a business, check the This is a business checkbox and enter the information accordingly.\\n\\nFor more information, refer to the Update your information section.\\nOnce this step is complete, your organization will have access to the rest of LangSmith.\\n\\u200bSet up billing for accounts created before pricing introduction\\nIf you joined LangSmith before pricing was introduced on April 2, 2024, you have the option to upgrade your existing account to set up billing. If you did not set up billing by July 8, 2024, then your account is now rate limited to a maximum of 5,000 traces per month.\\n\\nNavigate to the Settings page.\\nClick Set up Billing.\\n\\n\\n\\nEnter your credit card information. If you are on a Personal organization, this will add you to the Developer plan. If you are on a shared organization, this will add you to the Plus plan. For more information, refer to the guides for the Developer or Plus plans respectively, starting at step 2.\\nClaim free credits as a thank you for being an early LangSmith user.\\n\\n\\u200bUpdate your information\\nTo update business information for your LangSmith organization, head to the Usage and Billing page under Settings and click on the Plans and Billing tab.\\nBusiness information, tax ID, and invoice email can only be updated for the Plus and Startup plans. Free and Developer plans cannot update this information.\\n\\u200bInvoice email\\n\\nTo update the email address for invoices, follow these steps:\\n\\nNavigate to the Plans and Billing tab.\\nLocate the section beneath the payment method, where the current invoice email is displayed.\\nEnter the new email address for invoices in the provided field.\\nThe new email address will be automatically saved.\\n\\nYou will receive all future invoices to the updated email address.\\n\\u200bBusiness information and tax ID\\nIn certain jurisdictions, LangSmith is required to collect sales tax. If you are a business, providing your tax ID may qualify you for a sales tax exemption.\\n\\nTo update your organization’s business information, follow these steps:\\n\\nNavigate to the Plans and Billing tab.\\nBelow the invoice email section, you will find a checkbox labeled Business.\\nCheck the Business checkbox if your organization belongs to a business.\\nA business information section will appear, allowing you to enter or update the following details:\\n\\nBusiness Name\\nAddress\\nTax ID for applicable jurisdictions\\n\\n\\nA Tax ID field will appear for applicable jurisdictions after you select a country.\\nAfter entering the necessary information, click the Save button to save your changes.\\n\\nThis ensures that your business information is up-to-date and accurate for billing and tax purposes.\\n\\u200bOptimize your tracing spend\\nYou may find it helpful to read the following pages, before continuing with this section on optimizing your tracing spend:\\nData Retention Conceptual Docs\\nUsage Limiting Conceptual Docs\\n\\nSome of the features mentioned in this guide are not currently available on Enterprise plan due to its custom nature of billing. If you are on the Enterprise plan and have questions about cost optimization, reach out to your sales rep or support@langchain.dev.\\nYou will learn how to optimize existing spend and prevent future overspend in LangSmith, which includes:\\n\\nReducing existing costs with data retention policies.\\nPreventing future overspend with usage limits.\\n\\nThis tutorial will use an existing LangSmith organization with high usage. You can transfer the concepts from this example to your own organization. The example organization has three workspaces, one for each deployment stage (Dev, Staging, and Prod):\\n\\n\\u200bUnderstand your current usage\\nThe first step of any optimization process is to understand current usage. LangSmith provides two ways to do this: Usage graph and Invoices.\\n\\u200bUsage graph\\nThe usage graph lets you examine how much of each usage-based pricing metric you have consumed. It does not directly show spend (which you will review later in the draft invoice).\\nYou can navigate to the usage graph under Settings -> Usage and Billing -> Usage Graph.\\n\\nThis graph shows that there are two usage metrics that LangSmith charges for:\\n\\nLangSmith Traces (Base Charge): tracks all traces that you send to LangSmith.\\nLangSmith Traces (Extended Data Retention Upgrades): tracks all traces that also have our Extended 400 Day Data Retention.\\n\\nFor more details, refer to the data retention conceptual docs. Notice that these graphs look identical, which you will review later in the tutorial.\\nLangSmith Traces usage is measured per workspace, because workspaces often represent development environments (as in the example), or teams within an organization. As a LangSmith administrator, you may want to understand spend granularly per each of these units. In this case where you just want to cut spend, you can focus on the environment responsible for the majority of costs first for the greatest savings.\\n\\u200bInvoices\\nYou understand what usage looks like in terms of traces, but you now need to translate that into spend. To do so, navigate to the Invoices tab. The first invoice that will appear on screen is a draft of your current month’s invoice, which shows your running spend thus far this month.\\n\\nLangSmith’s Usage Graph and Invoice use the term tenant_id to refer to a workspace ID. They are interchangeable.\\nIn the GIF, you’ll see that the charges for LangSmith Traces are broken up by “tenant_id” (i.e., workspace ID), which means you can track tracing spend on each of the workspaces. In the first few days of June, the vast majority of the total spend of roughly $2,000 is in the production workspace. Further, the majority of spend in that workspace was on extended data retention trace upgrades.\\nThese upgrades occur for two reasons:\\n\\nYou use extended data retention tracing, which means by default your traces are retained for 400 days.\\nYou use base data retention tracing and use a feature that automatically extends the data retention of a trace. (Refer to the Auto-Upgrade conceptual docs.)\\n\\nGiven that the number of total traces per day is equal to the number of extended retention traces per day, it’s most likely the case that this organization is using extended data retention tracing everywhere. As a result, start by optimizing the retention settings.\\n\\u200bOptimization 1: manage data retention\\nLangSmith charges differently based on a trace’s data retention, where short-lived traces are an order of magnitude less expensive than ones that last for a long time. In this optimization, you’ll learn how to get optimal settings for data retention without sacrificing historical observability, and see the effect it has on the bill.\\n\\u200bChange org level retention defaults for new projects\\nNavigate to the Usage configuration tab, and look at the organization level retention settings. Modifying this setting affects all new projects that are created going forward in all workspaces in the organizaton.\\nFor backwards compatibility, older organizations may have this defaulted to Extended. Organizations created after June 3rd, 2024 have this defaulted to Base.\\n\\n\\u200bChange project level retention defaults\\nData retention settings are adjustable per project on the tracing project page.\\nNavigate to Projects > Your project name > Select Retention and modify the default retention of the project to Base. This will only affect retention (and pricing) for traces going forward.\\n\\n\\u200bApply extended data retention to a percentage of traces\\nYou may not want all traces to expire after 14 days. You can automatically extend the retention of traces that match some criteria by creating an automation rule. You might want to apply extended data retention to specific types of traces, such as:\\n\\n10% of all traces: For general analysis or analyzing trends long term.\\nErrored traces: To investigate and debug issues thoroughly.\\nTraces with specific metadata: For long-term examination of particular features or user flows.\\n\\nTo configure this:\\n\\nNavigate to Projects > Your project name > Select + New > Select New Automation.\\nName your rule and optionally apply filters or a sample rate. For more information on configuring filters, refer to filtering techniques.\\n\\nWhen an automation rule matches any run within a trace, then all runs within the trace are upgraded to be retained for 400 days.\\nFor example, this is the expected configuration to keep 10% of all traces for extended data retention:\\n\\nIf you want to keep a subset of traces for longer than 400 days for data collection purposes, you can create another run rule that sends some runs to a dataset of your choosing. A dataset allows you to store the trace inputs and outputs (e.g., as a key-value dataset), and will persist indefinitely, even after the trace gets deleted.\\n\\u200bSee results after 7 days\\nWhile the total amount of traces per day stayed the same, the extended data retention traces was cut heavily. In the invoice, the spend reduced to roughly $900 in the last 7 days, as opposed to $2,000 in the previous 4. That’s a cost reduction of nearly 75% per day.\\n\\n\\u200bOptimization 2: limit usage\\nIn the previous section, you managed data retention settings to optimize existing spend. In this section, you will use usage limits to prevent future overspend.\\nLangSmith has two usage limits: total traces and extended retention traces. These correspond to the two metrics tracked on the usage graph. You can use these in tandem to have granular control over spend.\\nTo set limits, navigate back to Settings -> Usage and Billing -> Usage configuration. There is a table at the bottom of the page that lets you set usage limits per workspace. For each workspace, the two limits appear, along with a cost estimate:\\n\\nStart by setting limits on production usage, since that is where the majority of spend comes from.\\n\\u200bSet a good total traces limit\\nPicking the right total traces limit depends on the expected load of traces that you will send to LangSmith. It is important to consider potential growth before setting a limit. For example:\\n\\nCurrent Load: The gen AI application is called between 1.2-1.5 times per second, and each API request has a trace associated with it, meaning it logs around 100,000-130,000 traces per day.\\nExpected Growth in Load: The expectation is that this will double in size in the near future.\\n\\nFrom these assumptions, you can calculate an approximate limit:\\nCopyAsk AIlimit = current_load_per_day * expected_growth * days/month\\n      = 130,000 * 2 * 30\\n      = 7,800,000 traces / month\\n\\nClick on the edit icon on the right side of the table for the Prod row to enter the limit.\\n\\nWhen set without the extended data retention traces limit, the maximum cost estimator assumes that all traces are using extended data retention.\\n\\u200bCut maximum spend with an extended data retention limit\\nFrom Optimization 1, you learned that the easiest way to cut cost was through managing data retention. The same is true for limits. If you only want to keep roughly 10% of traces to be around more than 14 days, you can set a limit on the maximum high retention traces you can keep. This would result in .10 * 7,800,000 = 780,000.\\n\\nThe maximum cost is cut from ~40k per month to ~7.5k per month, because you no longer allow as many expensive data retention upgrades. This ensures that new users on the platform will not accidentally cause cost to balloon.\\nThe extended data retention limit can cause features other than traces to stop working once reached. If you plan to use this feature, read more about its functionality and side effects.\\n\\u200bSet dev/staging limits and view total spent limit across workspaces\\nFollowing a similar logic for the dev and staging environments, you can set limits at 10% of the production limit on usage for each workspace.\\nWhile this works with this usage pattern, setting good dev and staging limits may vary depending on your use case with LangSmith. For example, if you run evals as part of CI/CD in dev or staging, you may want to be more flexible with your usage limits to avoid test failures.\\nWith the limits set, LangSmith shows a maximum spend estimate across all workspaces:\\n\\nYou can use the cost estimate to plan for your invoice total.\\n\\u200bSummary\\nIf you have questions about further optimizing your spend, please reach out to support@langchain.dev.Manage organizations using the APISet up resource tagsAssistantResponses are generated using AI and may contain mistakes.Docs by LangChain home pagegithubxlinkedinyoutubeResourcesChangelogLangChain AcademyTrust CenterCompanyAboutCareersBloggithubxlinkedinyoutubePowered by Mintlify')]"
      ]
     },
     "execution_count": 8,
     "metadata": {},
     "output_type": "execute_result"
    }
   ],
   "source": [
    "docs = loader.load()\n",
    "docs"
   ]
  },
  {
   "cell_type": "code",
   "execution_count": 9,
   "id": "51d8504e",
   "metadata": {},
   "outputs": [],
   "source": [
    "### Load data --> docs --> divide the docs into chunks --> vector --> vector embeddings --> store in a vector store db\n",
    "from langchain_text_splitters import RecursiveCharacterTextSplitter\n",
    "textsplitter = RecursiveCharacterTextSplitter(chunk_size = 1000, chunk_overlap = 200)\n",
    "documents = textsplitter.split_documents(docs)"
   ]
  },
  {
   "cell_type": "code",
   "execution_count": 11,
   "id": "05903aa2",
   "metadata": {},
   "outputs": [
    {
     "data": {
      "text/plain": [
       "[Document(metadata={'source': 'https://docs.langchain.com/langsmith/billing#optimize-your-tracing-spend', 'title': 'Manage billing in your account - Docs by LangChain', 'language': 'en'}, page_content='Manage billing in your account - Docs by LangChainOur new LangChain Academy Course Deep Research with LangGraph is now live! Enroll for free.Docs by LangChain home pagePythonSearch...⌘KLangSmithPlatform for LLM observability and evaluationSetupOverviewCreate an account and API keySet up a workspaceManage organizations using the APIManage billingSet up resource tagsUser managementAdditional resourcesFAQsTroubleshootingCloud architecture and scalabilityRegions FAQAuthentication methodsData purging for complianceRelease versionsOur new LangChain Academy Course Deep Research with LangGraph is now live! Enroll for free.Docs by LangChain home pagePythonSearch...⌘KAsk AIGitHubForumForumSearch...NavigationSetupManage billing in your accountGet startedObservabilityEvaluationPrompt engineeringSelf-hostingAdministrationGet startedObservabilityEvaluationPrompt engineeringSelf-hostingAdministrationGitHubForumOn this pageSet up billing for your accountDeveloper Plan: set up billing on your personal'),\n",
       " Document(metadata={'source': 'https://docs.langchain.com/langsmith/billing#optimize-your-tracing-spend', 'title': 'Manage billing in your account - Docs by LangChain', 'language': 'en'}, page_content='startedObservabilityEvaluationPrompt engineeringSelf-hostingAdministrationGitHubForumOn this pageSet up billing for your accountDeveloper Plan: set up billing on your personal organizationPlus Plan: set up billing on a shared organizationSet up billing for accounts created before pricing introductionUpdate your informationInvoice emailBusiness information and tax IDOptimize your tracing spendUnderstand your current usageUsage graphInvoicesOptimization 1: manage data retentionChange org level retention defaults for new projectsChange project level retention defaultsApply extended data retention to a percentage of tracesSee results after 7 daysOptimization 2: limit usageSet a good total traces limitCut maximum spend with an extended data retention limitSet dev/staging limits and view total spent limit across workspacesSummarySetupManage billing in your accountCopy pageCopy pageThis page describes how to manage billing for your LangSmith organization:'),\n",
       " Document(metadata={'source': 'https://docs.langchain.com/langsmith/billing#optimize-your-tracing-spend', 'title': 'Manage billing in your account - Docs by LangChain', 'language': 'en'}, page_content='Set up billing for your account: Complete the billing setup process for Developer and Plus plans, including special instructions for legacy accounts.\\nUpdate your information: Modify invoice email addresses, business information, and tax IDs for your organization.\\nOptimize your tracing spend: Learn how to reduce costs through data retention management and usage limits.\\n\\n\\u200bSet up billing for your account\\nBefore using this guide, note the following:\\nIf you are interested in the Enterprise plan, please contact sales. This guide is only for our self-serve billing plans.\\nIf you created your LangSmith organization before pricing was introduced on April 2nd, 2024, please skip to the final section.\\n\\nTo set up billing for your LangSmith organization, navigate to the Usage and Billing page under Settings. Depending on your organization’s settings, there are different setup guides:\\n\\nDeveloper plan\\nPlus plan\\nSetup for accounts created before April 2, 2024 pricing introduction'),\n",
       " Document(metadata={'source': 'https://docs.langchain.com/langsmith/billing#optimize-your-tracing-spend', 'title': 'Manage billing in your account - Docs by LangChain', 'language': 'en'}, page_content='Developer plan\\nPlus plan\\nSetup for accounts created before April 2, 2024 pricing introduction\\n\\n\\u200bDeveloper Plan: set up billing on your personal organization\\nPersonal organizations are limited to 5000 traces per month until a credit card is added. You can add a credit card on the Plans and Billing page as follows:\\n\\nClick Set up Billing\\n\\n\\n\\nAdd your credit card information. After this step, you will no longer be rate limited to 5000 traces, and you will be charged for any excess traces at rates specified on the pricing page.\\n\\n\\u200bPlus Plan: set up billing on a shared organization\\nIf you have not yet created an organization, you need to follow this guide before setting up billing. The following steps assume you are already in a new organization.\\nYou can’t use a new organization until you enter credit card information. After you complete the following steps, you will gain complete access to LangSmith.\\n\\nClick Subscribe on the Plus page.'),\n",
       " Document(metadata={'source': 'https://docs.langchain.com/langsmith/billing#optimize-your-tracing-spend', 'title': 'Manage billing in your account - Docs by LangChain', 'language': 'en'}, page_content='Click Subscribe on the Plus page.\\n\\nIf you are a startup building with AI, instead click Apply Now on the Startup Plan. You may be eligible for discounted prices and a free, monthly trace allotment.\\n\\n\\nReview your existing members. Before subscribing, LangSmith lets you remove any added users that you do not want to be included in the bill.\\n\\n\\n\\nEnter your credit card information. Then, enter business information, invoice email, and tax ID. If this organization belongs to a business, check the This is a business checkbox and enter the information accordingly.'),\n",
       " Document(metadata={'source': 'https://docs.langchain.com/langsmith/billing#optimize-your-tracing-spend', 'title': 'Manage billing in your account - Docs by LangChain', 'language': 'en'}, page_content='For more information, refer to the Update your information section.\\nOnce this step is complete, your organization will have access to the rest of LangSmith.\\n\\u200bSet up billing for accounts created before pricing introduction\\nIf you joined LangSmith before pricing was introduced on April 2, 2024, you have the option to upgrade your existing account to set up billing. If you did not set up billing by July 8, 2024, then your account is now rate limited to a maximum of 5,000 traces per month.\\n\\nNavigate to the Settings page.\\nClick Set up Billing.\\n\\n\\n\\nEnter your credit card information. If you are on a Personal organization, this will add you to the Developer plan. If you are on a shared organization, this will add you to the Plus plan. For more information, refer to the guides for the Developer or Plus plans respectively, starting at step 2.\\nClaim free credits as a thank you for being an early LangSmith user.'),\n",
       " Document(metadata={'source': 'https://docs.langchain.com/langsmith/billing#optimize-your-tracing-spend', 'title': 'Manage billing in your account - Docs by LangChain', 'language': 'en'}, page_content='\\u200bUpdate your information\\nTo update business information for your LangSmith organization, head to the Usage and Billing page under Settings and click on the Plans and Billing tab.\\nBusiness information, tax ID, and invoice email can only be updated for the Plus and Startup plans. Free and Developer plans cannot update this information.\\n\\u200bInvoice email\\n\\nTo update the email address for invoices, follow these steps:\\n\\nNavigate to the Plans and Billing tab.\\nLocate the section beneath the payment method, where the current invoice email is displayed.\\nEnter the new email address for invoices in the provided field.\\nThe new email address will be automatically saved.\\n\\nYou will receive all future invoices to the updated email address.\\n\\u200bBusiness information and tax ID\\nIn certain jurisdictions, LangSmith is required to collect sales tax. If you are a business, providing your tax ID may qualify you for a sales tax exemption.\\n\\nTo update your organization’s business information, follow these steps:'),\n",
       " Document(metadata={'source': 'https://docs.langchain.com/langsmith/billing#optimize-your-tracing-spend', 'title': 'Manage billing in your account - Docs by LangChain', 'language': 'en'}, page_content='To update your organization’s business information, follow these steps:\\n\\nNavigate to the Plans and Billing tab.\\nBelow the invoice email section, you will find a checkbox labeled Business.\\nCheck the Business checkbox if your organization belongs to a business.\\nA business information section will appear, allowing you to enter or update the following details:\\n\\nBusiness Name\\nAddress\\nTax ID for applicable jurisdictions\\n\\n\\nA Tax ID field will appear for applicable jurisdictions after you select a country.\\nAfter entering the necessary information, click the Save button to save your changes.\\n\\nThis ensures that your business information is up-to-date and accurate for billing and tax purposes.\\n\\u200bOptimize your tracing spend\\nYou may find it helpful to read the following pages, before continuing with this section on optimizing your tracing spend:\\nData Retention Conceptual Docs\\nUsage Limiting Conceptual Docs'),\n",
       " Document(metadata={'source': 'https://docs.langchain.com/langsmith/billing#optimize-your-tracing-spend', 'title': 'Manage billing in your account - Docs by LangChain', 'language': 'en'}, page_content='Some of the features mentioned in this guide are not currently available on Enterprise plan due to its custom nature of billing. If you are on the Enterprise plan and have questions about cost optimization, reach out to your sales rep or support@langchain.dev.\\nYou will learn how to optimize existing spend and prevent future overspend in LangSmith, which includes:\\n\\nReducing existing costs with data retention policies.\\nPreventing future overspend with usage limits.\\n\\nThis tutorial will use an existing LangSmith organization with high usage. You can transfer the concepts from this example to your own organization. The example organization has three workspaces, one for each deployment stage (Dev, Staging, and Prod):'),\n",
       " Document(metadata={'source': 'https://docs.langchain.com/langsmith/billing#optimize-your-tracing-spend', 'title': 'Manage billing in your account - Docs by LangChain', 'language': 'en'}, page_content='\\u200bUnderstand your current usage\\nThe first step of any optimization process is to understand current usage. LangSmith provides two ways to do this: Usage graph and Invoices.\\n\\u200bUsage graph\\nThe usage graph lets you examine how much of each usage-based pricing metric you have consumed. It does not directly show spend (which you will review later in the draft invoice).\\nYou can navigate to the usage graph under Settings -> Usage and Billing -> Usage Graph.\\n\\nThis graph shows that there are two usage metrics that LangSmith charges for:\\n\\nLangSmith Traces (Base Charge): tracks all traces that you send to LangSmith.\\nLangSmith Traces (Extended Data Retention Upgrades): tracks all traces that also have our Extended 400 Day Data Retention.'),\n",
       " Document(metadata={'source': 'https://docs.langchain.com/langsmith/billing#optimize-your-tracing-spend', 'title': 'Manage billing in your account - Docs by LangChain', 'language': 'en'}, page_content='For more details, refer to the data retention conceptual docs. Notice that these graphs look identical, which you will review later in the tutorial.\\nLangSmith Traces usage is measured per workspace, because workspaces often represent development environments (as in the example), or teams within an organization. As a LangSmith administrator, you may want to understand spend granularly per each of these units. In this case where you just want to cut spend, you can focus on the environment responsible for the majority of costs first for the greatest savings.\\n\\u200bInvoices\\nYou understand what usage looks like in terms of traces, but you now need to translate that into spend. To do so, navigate to the Invoices tab. The first invoice that will appear on screen is a draft of your current month’s invoice, which shows your running spend thus far this month.'),\n",
       " Document(metadata={'source': 'https://docs.langchain.com/langsmith/billing#optimize-your-tracing-spend', 'title': 'Manage billing in your account - Docs by LangChain', 'language': 'en'}, page_content='LangSmith’s Usage Graph and Invoice use the term tenant_id to refer to a workspace ID. They are interchangeable.\\nIn the GIF, you’ll see that the charges for LangSmith Traces are broken up by “tenant_id” (i.e., workspace ID), which means you can track tracing spend on each of the workspaces. In the first few days of June, the vast majority of the total spend of roughly $2,000 is in the production workspace. Further, the majority of spend in that workspace was on extended data retention trace upgrades.\\nThese upgrades occur for two reasons:\\n\\nYou use extended data retention tracing, which means by default your traces are retained for 400 days.\\nYou use base data retention tracing and use a feature that automatically extends the data retention of a trace. (Refer to the Auto-Upgrade conceptual docs.)'),\n",
       " Document(metadata={'source': 'https://docs.langchain.com/langsmith/billing#optimize-your-tracing-spend', 'title': 'Manage billing in your account - Docs by LangChain', 'language': 'en'}, page_content='Given that the number of total traces per day is equal to the number of extended retention traces per day, it’s most likely the case that this organization is using extended data retention tracing everywhere. As a result, start by optimizing the retention settings.\\n\\u200bOptimization 1: manage data retention\\nLangSmith charges differently based on a trace’s data retention, where short-lived traces are an order of magnitude less expensive than ones that last for a long time. In this optimization, you’ll learn how to get optimal settings for data retention without sacrificing historical observability, and see the effect it has on the bill.\\n\\u200bChange org level retention defaults for new projects\\nNavigate to the Usage configuration tab, and look at the organization level retention settings. Modifying this setting affects all new projects that are created going forward in all workspaces in the organizaton.'),\n",
       " Document(metadata={'source': 'https://docs.langchain.com/langsmith/billing#optimize-your-tracing-spend', 'title': 'Manage billing in your account - Docs by LangChain', 'language': 'en'}, page_content='For backwards compatibility, older organizations may have this defaulted to Extended. Organizations created after June 3rd, 2024 have this defaulted to Base.'),\n",
       " Document(metadata={'source': 'https://docs.langchain.com/langsmith/billing#optimize-your-tracing-spend', 'title': 'Manage billing in your account - Docs by LangChain', 'language': 'en'}, page_content='\\u200bChange project level retention defaults\\nData retention settings are adjustable per project on the tracing project page.\\nNavigate to Projects > Your project name > Select Retention and modify the default retention of the project to Base. This will only affect retention (and pricing) for traces going forward.\\n\\n\\u200bApply extended data retention to a percentage of traces\\nYou may not want all traces to expire after 14 days. You can automatically extend the retention of traces that match some criteria by creating an automation rule. You might want to apply extended data retention to specific types of traces, such as:\\n\\n10% of all traces: For general analysis or analyzing trends long term.\\nErrored traces: To investigate and debug issues thoroughly.\\nTraces with specific metadata: For long-term examination of particular features or user flows.\\n\\nTo configure this:'),\n",
       " Document(metadata={'source': 'https://docs.langchain.com/langsmith/billing#optimize-your-tracing-spend', 'title': 'Manage billing in your account - Docs by LangChain', 'language': 'en'}, page_content='To configure this:\\n\\nNavigate to Projects > Your project name > Select + New > Select New Automation.\\nName your rule and optionally apply filters or a sample rate. For more information on configuring filters, refer to filtering techniques.\\n\\nWhen an automation rule matches any run within a trace, then all runs within the trace are upgraded to be retained for 400 days.\\nFor example, this is the expected configuration to keep 10% of all traces for extended data retention:'),\n",
       " Document(metadata={'source': 'https://docs.langchain.com/langsmith/billing#optimize-your-tracing-spend', 'title': 'Manage billing in your account - Docs by LangChain', 'language': 'en'}, page_content='If you want to keep a subset of traces for longer than 400 days for data collection purposes, you can create another run rule that sends some runs to a dataset of your choosing. A dataset allows you to store the trace inputs and outputs (e.g., as a key-value dataset), and will persist indefinitely, even after the trace gets deleted.\\n\\u200bSee results after 7 days\\nWhile the total amount of traces per day stayed the same, the extended data retention traces was cut heavily. In the invoice, the spend reduced to roughly $900 in the last 7 days, as opposed to $2,000 in the previous 4. That’s a cost reduction of nearly 75% per day.'),\n",
       " Document(metadata={'source': 'https://docs.langchain.com/langsmith/billing#optimize-your-tracing-spend', 'title': 'Manage billing in your account - Docs by LangChain', 'language': 'en'}, page_content='\\u200bOptimization 2: limit usage\\nIn the previous section, you managed data retention settings to optimize existing spend. In this section, you will use usage limits to prevent future overspend.\\nLangSmith has two usage limits: total traces and extended retention traces. These correspond to the two metrics tracked on the usage graph. You can use these in tandem to have granular control over spend.\\nTo set limits, navigate back to Settings -> Usage and Billing -> Usage configuration. There is a table at the bottom of the page that lets you set usage limits per workspace. For each workspace, the two limits appear, along with a cost estimate:\\n\\nStart by setting limits on production usage, since that is where the majority of spend comes from.\\n\\u200bSet a good total traces limit\\nPicking the right total traces limit depends on the expected load of traces that you will send to LangSmith. It is important to consider potential growth before setting a limit. For example:'),\n",
       " Document(metadata={'source': 'https://docs.langchain.com/langsmith/billing#optimize-your-tracing-spend', 'title': 'Manage billing in your account - Docs by LangChain', 'language': 'en'}, page_content='Current Load: The gen AI application is called between 1.2-1.5 times per second, and each API request has a trace associated with it, meaning it logs around 100,000-130,000 traces per day.\\nExpected Growth in Load: The expectation is that this will double in size in the near future.\\n\\nFrom these assumptions, you can calculate an approximate limit:\\nCopyAsk AIlimit = current_load_per_day * expected_growth * days/month\\n      = 130,000 * 2 * 30\\n      = 7,800,000 traces / month\\n\\nClick on the edit icon on the right side of the table for the Prod row to enter the limit.'),\n",
       " Document(metadata={'source': 'https://docs.langchain.com/langsmith/billing#optimize-your-tracing-spend', 'title': 'Manage billing in your account - Docs by LangChain', 'language': 'en'}, page_content='Click on the edit icon on the right side of the table for the Prod row to enter the limit.\\n\\nWhen set without the extended data retention traces limit, the maximum cost estimator assumes that all traces are using extended data retention.\\n\\u200bCut maximum spend with an extended data retention limit\\nFrom Optimization 1, you learned that the easiest way to cut cost was through managing data retention. The same is true for limits. If you only want to keep roughly 10% of traces to be around more than 14 days, you can set a limit on the maximum high retention traces you can keep. This would result in .10 * 7,800,000 = 780,000.'),\n",
       " Document(metadata={'source': 'https://docs.langchain.com/langsmith/billing#optimize-your-tracing-spend', 'title': 'Manage billing in your account - Docs by LangChain', 'language': 'en'}, page_content='The maximum cost is cut from ~40k per month to ~7.5k per month, because you no longer allow as many expensive data retention upgrades. This ensures that new users on the platform will not accidentally cause cost to balloon.\\nThe extended data retention limit can cause features other than traces to stop working once reached. If you plan to use this feature, read more about its functionality and side effects.\\n\\u200bSet dev/staging limits and view total spent limit across workspaces\\nFollowing a similar logic for the dev and staging environments, you can set limits at 10% of the production limit on usage for each workspace.\\nWhile this works with this usage pattern, setting good dev and staging limits may vary depending on your use case with LangSmith. For example, if you run evals as part of CI/CD in dev or staging, you may want to be more flexible with your usage limits to avoid test failures.\\nWith the limits set, LangSmith shows a maximum spend estimate across all workspaces:'),\n",
       " Document(metadata={'source': 'https://docs.langchain.com/langsmith/billing#optimize-your-tracing-spend', 'title': 'Manage billing in your account - Docs by LangChain', 'language': 'en'}, page_content='You can use the cost estimate to plan for your invoice total.\\n\\u200bSummary\\nIf you have questions about further optimizing your spend, please reach out to support@langchain.dev.Manage organizations using the APISet up resource tagsAssistantResponses are generated using AI and may contain mistakes.Docs by LangChain home pagegithubxlinkedinyoutubeResourcesChangelogLangChain AcademyTrust CenterCompanyAboutCareersBloggithubxlinkedinyoutubePowered by Mintlify')]"
      ]
     },
     "execution_count": 11,
     "metadata": {},
     "output_type": "execute_result"
    }
   ],
   "source": [
    "documents"
   ]
  },
  {
   "cell_type": "code",
   "execution_count": 12,
   "id": "6ae33012",
   "metadata": {},
   "outputs": [],
   "source": [
    "from langchain_openai import OpenAIEmbeddings\n",
    "embeddings = OpenAIEmbeddings()"
   ]
  },
  {
   "cell_type": "code",
   "execution_count": 13,
   "id": "dca0ff37",
   "metadata": {},
   "outputs": [],
   "source": [
    "from langchain_community.vectorstores import FAISS\n",
    "vectorstoredb = FAISS.from_documents(documents, embeddings)"
   ]
  },
  {
   "cell_type": "code",
   "execution_count": 14,
   "id": "dd2ace51",
   "metadata": {},
   "outputs": [
    {
     "data": {
      "text/plain": [
       "<langchain_community.vectorstores.faiss.FAISS at 0x7f00f6963b60>"
      ]
     },
     "execution_count": 14,
     "metadata": {},
     "output_type": "execute_result"
    }
   ],
   "source": [
    "vectorstoredb"
   ]
  },
  {
   "cell_type": "code",
   "execution_count": 17,
   "id": "0fd087b5",
   "metadata": {},
   "outputs": [
    {
     "name": "stdout",
     "output_type": "stream",
     "text": [
      "To update your organization’s business information, follow these steps:\n",
      "\n",
      "Navigate to the Plans and Billing tab.\n",
      "Below the invoice email section, you will find a checkbox labeled Business.\n",
      "Check the Business checkbox if your organization belongs to a business.\n",
      "A business information section will appear, allowing you to enter or update the following details:\n",
      "\n",
      "Business Name\n",
      "Address\n",
      "Tax ID for applicable jurisdictions\n",
      "\n",
      "\n",
      "A Tax ID field will appear for applicable jurisdictions after you select a country.\n",
      "After entering the necessary information, click the Save button to save your changes.\n",
      "\n",
      "This ensures that your business information is up-to-date and accurate for billing and tax purposes.\n",
      "​Optimize your tracing spend\n",
      "You may find it helpful to read the following pages, before continuing with this section on optimizing your tracing spend:\n",
      "Data Retention Conceptual Docs\n",
      "Usage Limiting Conceptual Docs\n"
     ]
    }
   ],
   "source": [
    "query = \"update your organization’s business information\"\n",
    "result = vectorstoredb.similarity_search(query)\n",
    "print(result[0].page_content)"
   ]
  },
  {
   "cell_type": "markdown",
   "id": "4b6cad0a",
   "metadata": {},
   "source": [
    "### Retrieval chain, Document chain"
   ]
  },
  {
   "cell_type": "code",
   "execution_count": 18,
   "id": "c2e4e8d0",
   "metadata": {},
   "outputs": [],
   "source": [
    "from langchain_openai import ChatOpenAI\n",
    "llm = ChatOpenAI(model=\"gpt-4o\")"
   ]
  },
  {
   "cell_type": "code",
   "execution_count": null,
   "id": "62a32624",
   "metadata": {},
   "outputs": [
    {
     "data": {
      "text/plain": [
       "RunnableBinding(bound=RunnableBinding(bound=RunnableAssign(mapper={\n",
       "  context: RunnableLambda(format_docs)\n",
       "}), kwargs={}, config={'run_name': 'format_inputs'}, config_factories=[])\n",
       "| ChatPromptTemplate(input_variables=['context'], input_types={}, partial_variables={}, messages=[HumanMessagePromptTemplate(prompt=PromptTemplate(input_variables=['context'], input_types={}, partial_variables={}, template=' \\n        Answer the following questions based on provided context:\\n        <context>\\n        {context}\\n        </context>\\n    '), additional_kwargs={})])\n",
       "| ChatOpenAI(client=<openai.resources.chat.completions.completions.Completions object at 0x7f00d00356d0>, async_client=<openai.resources.chat.completions.completions.AsyncCompletions object at 0x7f00d0035a90>, root_client=<openai.OpenAI object at 0x7f00d0034910>, root_async_client=<openai.AsyncOpenAI object at 0x7f00d0035810>, model_name='gpt-4o', model_kwargs={}, openai_api_key=SecretStr('**********'))\n",
       "| StrOutputParser(), kwargs={}, config={'run_name': 'stuff_documents_chain'}, config_factories=[])"
      ]
     },
     "execution_count": 21,
     "metadata": {},
     "output_type": "execute_result"
    }
   ],
   "source": [
    "from langchain.chains.combine_documents import create_stuff_documents_chain\n",
    "from langchain_core.prompts import ChatPromptTemplate\n",
    "\n",
    "prompt = ChatPromptTemplate.from_template(\n",
    "    \"\"\" \n",
    "        Answer the following questions based on provided context:\n",
    "        <context>\n",
    "        {context}\n",
    "        </context> \n",
    "    \"\"\"\n",
    ")\n",
    "\n",
    "document_chain = create_stuff_documents_chain(llm, prompt)\n",
    "document_chain"
   ]
  },
  {
   "cell_type": "code",
   "execution_count": 22,
   "id": "bcb6cb86",
   "metadata": {},
   "outputs": [
    {
     "data": {
      "text/plain": [
       "\"Sure, feel free to ask your questions related to the provided context about updating your organization's business information via the Plans and Billing tab.\""
      ]
     },
     "execution_count": 22,
     "metadata": {},
     "output_type": "execute_result"
    }
   ],
   "source": [
    "from langchain_core.documents import Document\n",
    "\n",
    "document_chain.invoke({\n",
    "    \"input\":\"update your organization’s business information\",\n",
    "    \"context\":[Document(page_content=\"update your organization’s business information, follow these steps: Navigate to the Plans and Billing tab.\")]\n",
    "})"
   ]
  },
  {
   "cell_type": "markdown",
   "id": "d6c1ec79",
   "metadata": {},
   "source": [
    "## Retriever\n",
    "\n",
    "However, we want the documents to first come from the retriever we just set up. That way, we can use the retriever to dynamically select the most relevant documents and pass those in for a given question."
   ]
  },
  {
   "cell_type": "code",
   "execution_count": 23,
   "id": "f3da2afd",
   "metadata": {},
   "outputs": [
    {
     "data": {
      "text/plain": [
       "<langchain_community.vectorstores.faiss.FAISS at 0x7f00f6963b60>"
      ]
     },
     "execution_count": 23,
     "metadata": {},
     "output_type": "execute_result"
    }
   ],
   "source": [
    "#### input --> retriever --> vectorstoredb\n",
    "vectorstoredb"
   ]
  },
  {
   "cell_type": "code",
   "execution_count": 28,
   "id": "5691ec0e",
   "metadata": {},
   "outputs": [],
   "source": [
    "retriever = vectorstoredb.as_retriever()\n",
    "from langchain.chains import create_retrieval_chain\n",
    "retrieval_chain = create_retrieval_chain(retriever, document_chain)"
   ]
  },
  {
   "cell_type": "code",
   "execution_count": 29,
   "id": "5982e1a8",
   "metadata": {},
   "outputs": [
    {
     "data": {
      "text/plain": [
       "RunnableBinding(bound=RunnableAssign(mapper={\n",
       "  context: RunnableBinding(bound=RunnableLambda(lambda x: x['input'])\n",
       "           | VectorStoreRetriever(tags=['FAISS', 'OpenAIEmbeddings'], vectorstore=<langchain_community.vectorstores.faiss.FAISS object at 0x7f00f6963b60>, search_kwargs={}), kwargs={}, config={'run_name': 'retrieve_documents'}, config_factories=[])\n",
       "})\n",
       "| RunnableAssign(mapper={\n",
       "    answer: RunnableBinding(bound=RunnableBinding(bound=RunnableAssign(mapper={\n",
       "              context: RunnableLambda(format_docs)\n",
       "            }), kwargs={}, config={'run_name': 'format_inputs'}, config_factories=[])\n",
       "            | ChatPromptTemplate(input_variables=['context'], input_types={}, partial_variables={}, messages=[HumanMessagePromptTemplate(prompt=PromptTemplate(input_variables=['context'], input_types={}, partial_variables={}, template=' \\n        Answer the following questions based on provided context:\\n        <context>\\n        {context}\\n        </context>\\n    '), additional_kwargs={})])\n",
       "            | ChatOpenAI(client=<openai.resources.chat.completions.completions.Completions object at 0x7f00d00356d0>, async_client=<openai.resources.chat.completions.completions.AsyncCompletions object at 0x7f00d0035a90>, root_client=<openai.OpenAI object at 0x7f00d0034910>, root_async_client=<openai.AsyncOpenAI object at 0x7f00d0035810>, model_name='gpt-4o', model_kwargs={}, openai_api_key=SecretStr('**********'))\n",
       "            | StrOutputParser(), kwargs={}, config={'run_name': 'stuff_documents_chain'}, config_factories=[])\n",
       "  }), kwargs={}, config={'run_name': 'retrieval_chain'}, config_factories=[])"
      ]
     },
     "execution_count": 29,
     "metadata": {},
     "output_type": "execute_result"
    }
   ],
   "source": [
    "retrieval_chain"
   ]
  },
  {
   "cell_type": "code",
   "execution_count": null,
   "id": "8a86527e",
   "metadata": {},
   "outputs": [
    {
     "data": {
      "text/plain": [
       "'1. How can you update your organization\\'s business information if you belong to a business?\\n\\nTo update your organization\\'s business information, navigate to the Plans and Billing tab. Below the invoice email section, check the checkbox labeled \"Business\" if your organization belongs to a business. A business information section will then appear where you can enter or update details like Business Name, Address, and Tax ID for applicable jurisdictions. Make sure to click the Save button after entering the necessary information.\\n\\n2. Can you update business information and tax IDs for the Free and Developer plans?\\n\\nNo, business information, tax ID, and invoice email updates can only be made for the Plus and Startup plans. The Free and Developer plans do not allow updates to this information.\\n\\n3. How can you qualify for a sales tax exemption?\\n\\nTo qualify for a sales tax exemption, if you are a business, you need to provide your tax ID in the business information section. This may qualify you for a sales tax exemption in certain jurisdictions where LangSmith is required to collect sales tax.\\n\\n4. What should you do to receive invoices at a new email address?\\n\\nTo update the email address for invoices, navigate to the Plans and Billing tab. Locate the section beneath the payment method, where the current invoice email is displayed, and enter the new email address for invoices in the provided field. The new email address will automatically be saved, and you will receive all future invoices at the updated email address.\\n\\n5. What should startups building with AI do when considering a subscription?\\n\\nIf you are a startup building with AI, instead of clicking \"Subscribe\" on the Plus page, you should click \"Apply Now\" on the Startup Plan. This might make you eligible for discounted prices and a free, monthly trace allotment.'"
      ]
     },
     "execution_count": 30,
     "metadata": {},
     "output_type": "execute_result"
    }
   ],
   "source": [
    "## get the response from the llm\n",
    "response = retrieval_chain.invoke({\"input\":\"Check the Business checkbox\"})\n",
    "response['answer']."
   ]
  },
  {
   "cell_type": "code",
   "execution_count": 31,
   "id": "b0429561",
   "metadata": {},
   "outputs": [
    {
     "data": {
      "text/plain": [
       "{'input': 'Check the Business checkbox',\n",
       " 'context': [Document(id='62852bc8-bcc1-44ef-8349-255697f9ab3c', metadata={'source': 'https://docs.langchain.com/langsmith/billing#optimize-your-tracing-spend', 'title': 'Manage billing in your account - Docs by LangChain', 'language': 'en'}, page_content='To update your organization’s business information, follow these steps:\\n\\nNavigate to the Plans and Billing tab.\\nBelow the invoice email section, you will find a checkbox labeled Business.\\nCheck the Business checkbox if your organization belongs to a business.\\nA business information section will appear, allowing you to enter or update the following details:\\n\\nBusiness Name\\nAddress\\nTax ID for applicable jurisdictions\\n\\n\\nA Tax ID field will appear for applicable jurisdictions after you select a country.\\nAfter entering the necessary information, click the Save button to save your changes.\\n\\nThis ensures that your business information is up-to-date and accurate for billing and tax purposes.\\n\\u200bOptimize your tracing spend\\nYou may find it helpful to read the following pages, before continuing with this section on optimizing your tracing spend:\\nData Retention Conceptual Docs\\nUsage Limiting Conceptual Docs'),\n",
       "  Document(id='1573f35f-7d3a-4f21-9ce4-9a58d244c22e', metadata={'source': 'https://docs.langchain.com/langsmith/billing#optimize-your-tracing-spend', 'title': 'Manage billing in your account - Docs by LangChain', 'language': 'en'}, page_content='Click Subscribe on the Plus page.\\n\\nIf you are a startup building with AI, instead click Apply Now on the Startup Plan. You may be eligible for discounted prices and a free, monthly trace allotment.\\n\\n\\nReview your existing members. Before subscribing, LangSmith lets you remove any added users that you do not want to be included in the bill.\\n\\n\\n\\nEnter your credit card information. Then, enter business information, invoice email, and tax ID. If this organization belongs to a business, check the This is a business checkbox and enter the information accordingly.'),\n",
       "  Document(id='26882fea-40d5-4c7a-9dfc-cdf90b518ee1', metadata={'source': 'https://docs.langchain.com/langsmith/billing#optimize-your-tracing-spend', 'title': 'Manage billing in your account - Docs by LangChain', 'language': 'en'}, page_content='\\u200bUpdate your information\\nTo update business information for your LangSmith organization, head to the Usage and Billing page under Settings and click on the Plans and Billing tab.\\nBusiness information, tax ID, and invoice email can only be updated for the Plus and Startup plans. Free and Developer plans cannot update this information.\\n\\u200bInvoice email\\n\\nTo update the email address for invoices, follow these steps:\\n\\nNavigate to the Plans and Billing tab.\\nLocate the section beneath the payment method, where the current invoice email is displayed.\\nEnter the new email address for invoices in the provided field.\\nThe new email address will be automatically saved.\\n\\nYou will receive all future invoices to the updated email address.\\n\\u200bBusiness information and tax ID\\nIn certain jurisdictions, LangSmith is required to collect sales tax. If you are a business, providing your tax ID may qualify you for a sales tax exemption.\\n\\nTo update your organization’s business information, follow these steps:'),\n",
       "  Document(id='1556e321-df5d-437b-8706-03499e396fc2', metadata={'source': 'https://docs.langchain.com/langsmith/billing#optimize-your-tracing-spend', 'title': 'Manage billing in your account - Docs by LangChain', 'language': 'en'}, page_content='Set up billing for your account: Complete the billing setup process for Developer and Plus plans, including special instructions for legacy accounts.\\nUpdate your information: Modify invoice email addresses, business information, and tax IDs for your organization.\\nOptimize your tracing spend: Learn how to reduce costs through data retention management and usage limits.\\n\\n\\u200bSet up billing for your account\\nBefore using this guide, note the following:\\nIf you are interested in the Enterprise plan, please contact sales. This guide is only for our self-serve billing plans.\\nIf you created your LangSmith organization before pricing was introduced on April 2nd, 2024, please skip to the final section.\\n\\nTo set up billing for your LangSmith organization, navigate to the Usage and Billing page under Settings. Depending on your organization’s settings, there are different setup guides:\\n\\nDeveloper plan\\nPlus plan\\nSetup for accounts created before April 2, 2024 pricing introduction')],\n",
       " 'answer': '1. How can you update your organization\\'s business information if you belong to a business?\\n\\nTo update your organization\\'s business information, navigate to the Plans and Billing tab. Below the invoice email section, check the checkbox labeled \"Business\" if your organization belongs to a business. A business information section will then appear where you can enter or update details like Business Name, Address, and Tax ID for applicable jurisdictions. Make sure to click the Save button after entering the necessary information.\\n\\n2. Can you update business information and tax IDs for the Free and Developer plans?\\n\\nNo, business information, tax ID, and invoice email updates can only be made for the Plus and Startup plans. The Free and Developer plans do not allow updates to this information.\\n\\n3. How can you qualify for a sales tax exemption?\\n\\nTo qualify for a sales tax exemption, if you are a business, you need to provide your tax ID in the business information section. This may qualify you for a sales tax exemption in certain jurisdictions where LangSmith is required to collect sales tax.\\n\\n4. What should you do to receive invoices at a new email address?\\n\\nTo update the email address for invoices, navigate to the Plans and Billing tab. Locate the section beneath the payment method, where the current invoice email is displayed, and enter the new email address for invoices in the provided field. The new email address will automatically be saved, and you will receive all future invoices at the updated email address.\\n\\n5. What should startups building with AI do when considering a subscription?\\n\\nIf you are a startup building with AI, instead of clicking \"Subscribe\" on the Plus page, you should click \"Apply Now\" on the Startup Plan. This might make you eligible for discounted prices and a free, monthly trace allotment.'}"
      ]
     },
     "execution_count": 31,
     "metadata": {},
     "output_type": "execute_result"
    }
   ],
   "source": [
    "response"
   ]
  },
  {
   "cell_type": "code",
   "execution_count": 32,
   "id": "eea7886a",
   "metadata": {},
   "outputs": [
    {
     "data": {
      "text/plain": [
       "[Document(id='62852bc8-bcc1-44ef-8349-255697f9ab3c', metadata={'source': 'https://docs.langchain.com/langsmith/billing#optimize-your-tracing-spend', 'title': 'Manage billing in your account - Docs by LangChain', 'language': 'en'}, page_content='To update your organization’s business information, follow these steps:\\n\\nNavigate to the Plans and Billing tab.\\nBelow the invoice email section, you will find a checkbox labeled Business.\\nCheck the Business checkbox if your organization belongs to a business.\\nA business information section will appear, allowing you to enter or update the following details:\\n\\nBusiness Name\\nAddress\\nTax ID for applicable jurisdictions\\n\\n\\nA Tax ID field will appear for applicable jurisdictions after you select a country.\\nAfter entering the necessary information, click the Save button to save your changes.\\n\\nThis ensures that your business information is up-to-date and accurate for billing and tax purposes.\\n\\u200bOptimize your tracing spend\\nYou may find it helpful to read the following pages, before continuing with this section on optimizing your tracing spend:\\nData Retention Conceptual Docs\\nUsage Limiting Conceptual Docs'),\n",
       " Document(id='1573f35f-7d3a-4f21-9ce4-9a58d244c22e', metadata={'source': 'https://docs.langchain.com/langsmith/billing#optimize-your-tracing-spend', 'title': 'Manage billing in your account - Docs by LangChain', 'language': 'en'}, page_content='Click Subscribe on the Plus page.\\n\\nIf you are a startup building with AI, instead click Apply Now on the Startup Plan. You may be eligible for discounted prices and a free, monthly trace allotment.\\n\\n\\nReview your existing members. Before subscribing, LangSmith lets you remove any added users that you do not want to be included in the bill.\\n\\n\\n\\nEnter your credit card information. Then, enter business information, invoice email, and tax ID. If this organization belongs to a business, check the This is a business checkbox and enter the information accordingly.'),\n",
       " Document(id='26882fea-40d5-4c7a-9dfc-cdf90b518ee1', metadata={'source': 'https://docs.langchain.com/langsmith/billing#optimize-your-tracing-spend', 'title': 'Manage billing in your account - Docs by LangChain', 'language': 'en'}, page_content='\\u200bUpdate your information\\nTo update business information for your LangSmith organization, head to the Usage and Billing page under Settings and click on the Plans and Billing tab.\\nBusiness information, tax ID, and invoice email can only be updated for the Plus and Startup plans. Free and Developer plans cannot update this information.\\n\\u200bInvoice email\\n\\nTo update the email address for invoices, follow these steps:\\n\\nNavigate to the Plans and Billing tab.\\nLocate the section beneath the payment method, where the current invoice email is displayed.\\nEnter the new email address for invoices in the provided field.\\nThe new email address will be automatically saved.\\n\\nYou will receive all future invoices to the updated email address.\\n\\u200bBusiness information and tax ID\\nIn certain jurisdictions, LangSmith is required to collect sales tax. If you are a business, providing your tax ID may qualify you for a sales tax exemption.\\n\\nTo update your organization’s business information, follow these steps:'),\n",
       " Document(id='1556e321-df5d-437b-8706-03499e396fc2', metadata={'source': 'https://docs.langchain.com/langsmith/billing#optimize-your-tracing-spend', 'title': 'Manage billing in your account - Docs by LangChain', 'language': 'en'}, page_content='Set up billing for your account: Complete the billing setup process for Developer and Plus plans, including special instructions for legacy accounts.\\nUpdate your information: Modify invoice email addresses, business information, and tax IDs for your organization.\\nOptimize your tracing spend: Learn how to reduce costs through data retention management and usage limits.\\n\\n\\u200bSet up billing for your account\\nBefore using this guide, note the following:\\nIf you are interested in the Enterprise plan, please contact sales. This guide is only for our self-serve billing plans.\\nIf you created your LangSmith organization before pricing was introduced on April 2nd, 2024, please skip to the final section.\\n\\nTo set up billing for your LangSmith organization, navigate to the Usage and Billing page under Settings. Depending on your organization’s settings, there are different setup guides:\\n\\nDeveloper plan\\nPlus plan\\nSetup for accounts created before April 2, 2024 pricing introduction')]"
      ]
     },
     "execution_count": 32,
     "metadata": {},
     "output_type": "execute_result"
    }
   ],
   "source": [
    "response['context']"
   ]
  }
 ],
 "metadata": {
  "kernelspec": {
   "display_name": "venv (3.13.5)",
   "language": "python",
   "name": "python3"
  },
  "language_info": {
   "codemirror_mode": {
    "name": "ipython",
    "version": 3
   },
   "file_extension": ".py",
   "mimetype": "text/x-python",
   "name": "python",
   "nbconvert_exporter": "python",
   "pygments_lexer": "ipython3",
   "version": "3.13.5"
  }
 },
 "nbformat": 4,
 "nbformat_minor": 5
}
